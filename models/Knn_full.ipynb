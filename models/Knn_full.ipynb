{
 "cells": [
  {
   "cell_type": "markdown",
   "metadata": {},
   "source": [
    "### Import Dependencies"
   ]
  },
  {
   "cell_type": "code",
   "execution_count": 1,
   "metadata": {},
   "outputs": [],
   "source": [
    "import numpy as np \n",
    "import pandas as pd\n",
    "\n",
    "from sklearn.metrics import accuracy_score\n",
    "from sklearn.neighbors import KNeighborsClassifier\n",
    "from sklearn.model_selection import train_test_split"
   ]
  },
  {
   "cell_type": "markdown",
   "metadata": {},
   "source": [
    "### Read Dataset"
   ]
  },
  {
   "cell_type": "code",
   "execution_count": 2,
   "metadata": {},
   "outputs": [
    {
     "data": {
      "text/html": [
       "<div>\n",
       "<style scoped>\n",
       "    .dataframe tbody tr th:only-of-type {\n",
       "        vertical-align: middle;\n",
       "    }\n",
       "\n",
       "    .dataframe tbody tr th {\n",
       "        vertical-align: top;\n",
       "    }\n",
       "\n",
       "    .dataframe thead th {\n",
       "        text-align: right;\n",
       "    }\n",
       "</style>\n",
       "<table border=\"1\" class=\"dataframe\">\n",
       "  <thead>\n",
       "    <tr style=\"text-align: right;\">\n",
       "      <th></th>\n",
       "      <th>0</th>\n",
       "      <th>1</th>\n",
       "      <th>2</th>\n",
       "      <th>3</th>\n",
       "      <th>4</th>\n",
       "      <th>5</th>\n",
       "      <th>6</th>\n",
       "      <th>7</th>\n",
       "      <th>8</th>\n",
       "      <th>9</th>\n",
       "      <th>...</th>\n",
       "      <th>459</th>\n",
       "      <th>460</th>\n",
       "      <th>461</th>\n",
       "      <th>462</th>\n",
       "      <th>463</th>\n",
       "      <th>464</th>\n",
       "      <th>465</th>\n",
       "      <th>466</th>\n",
       "      <th>467</th>\n",
       "      <th>label</th>\n",
       "    </tr>\n",
       "  </thead>\n",
       "  <tbody>\n",
       "    <tr>\n",
       "      <th>0</th>\n",
       "      <td>0.156041</td>\n",
       "      <td>0.034724</td>\n",
       "      <td>0.071444</td>\n",
       "      <td>0.078117</td>\n",
       "      <td>0.0</td>\n",
       "      <td>0.043656</td>\n",
       "      <td>0.147673</td>\n",
       "      <td>0.290654</td>\n",
       "      <td>0.227140</td>\n",
       "      <td>0.271585</td>\n",
       "      <td>...</td>\n",
       "      <td>0.063550</td>\n",
       "      <td>0.104668</td>\n",
       "      <td>0.057380</td>\n",
       "      <td>0.062866</td>\n",
       "      <td>0.189442</td>\n",
       "      <td>0.170856</td>\n",
       "      <td>0.159821</td>\n",
       "      <td>0.323322</td>\n",
       "      <td>0.348375</td>\n",
       "      <td>0</td>\n",
       "    </tr>\n",
       "    <tr>\n",
       "      <th>1</th>\n",
       "      <td>0.099105</td>\n",
       "      <td>0.033467</td>\n",
       "      <td>0.048210</td>\n",
       "      <td>0.096153</td>\n",
       "      <td>0.0</td>\n",
       "      <td>0.050459</td>\n",
       "      <td>0.181863</td>\n",
       "      <td>0.332776</td>\n",
       "      <td>0.276899</td>\n",
       "      <td>0.323902</td>\n",
       "      <td>...</td>\n",
       "      <td>0.061139</td>\n",
       "      <td>0.101462</td>\n",
       "      <td>0.051161</td>\n",
       "      <td>0.050882</td>\n",
       "      <td>0.230257</td>\n",
       "      <td>0.214284</td>\n",
       "      <td>0.201468</td>\n",
       "      <td>0.353529</td>\n",
       "      <td>0.377521</td>\n",
       "      <td>0</td>\n",
       "    </tr>\n",
       "    <tr>\n",
       "      <th>2</th>\n",
       "      <td>0.160259</td>\n",
       "      <td>0.033538</td>\n",
       "      <td>0.105772</td>\n",
       "      <td>0.086060</td>\n",
       "      <td>0.0</td>\n",
       "      <td>0.046421</td>\n",
       "      <td>0.181095</td>\n",
       "      <td>0.224147</td>\n",
       "      <td>0.273403</td>\n",
       "      <td>0.312137</td>\n",
       "      <td>...</td>\n",
       "      <td>0.071666</td>\n",
       "      <td>0.147298</td>\n",
       "      <td>0.067166</td>\n",
       "      <td>0.087085</td>\n",
       "      <td>0.274896</td>\n",
       "      <td>0.251641</td>\n",
       "      <td>0.229446</td>\n",
       "      <td>0.382837</td>\n",
       "      <td>0.408696</td>\n",
       "      <td>0</td>\n",
       "    </tr>\n",
       "    <tr>\n",
       "      <th>3</th>\n",
       "      <td>0.139705</td>\n",
       "      <td>0.035719</td>\n",
       "      <td>0.060722</td>\n",
       "      <td>0.098022</td>\n",
       "      <td>0.0</td>\n",
       "      <td>0.051891</td>\n",
       "      <td>0.187796</td>\n",
       "      <td>0.330197</td>\n",
       "      <td>0.296981</td>\n",
       "      <td>0.350095</td>\n",
       "      <td>...</td>\n",
       "      <td>0.063510</td>\n",
       "      <td>0.106100</td>\n",
       "      <td>0.055346</td>\n",
       "      <td>0.057549</td>\n",
       "      <td>0.232088</td>\n",
       "      <td>0.215398</td>\n",
       "      <td>0.203230</td>\n",
       "      <td>0.354787</td>\n",
       "      <td>0.383226</td>\n",
       "      <td>0</td>\n",
       "    </tr>\n",
       "    <tr>\n",
       "      <th>4</th>\n",
       "      <td>0.144930</td>\n",
       "      <td>0.030739</td>\n",
       "      <td>0.065995</td>\n",
       "      <td>0.082237</td>\n",
       "      <td>0.0</td>\n",
       "      <td>0.041594</td>\n",
       "      <td>0.145923</td>\n",
       "      <td>0.312308</td>\n",
       "      <td>0.210267</td>\n",
       "      <td>0.247076</td>\n",
       "      <td>...</td>\n",
       "      <td>0.035856</td>\n",
       "      <td>0.051338</td>\n",
       "      <td>0.042271</td>\n",
       "      <td>0.047047</td>\n",
       "      <td>0.154600</td>\n",
       "      <td>0.146428</td>\n",
       "      <td>0.139789</td>\n",
       "      <td>0.194182</td>\n",
       "      <td>0.204608</td>\n",
       "      <td>0</td>\n",
       "    </tr>\n",
       "  </tbody>\n",
       "</table>\n",
       "<p>5 rows × 469 columns</p>\n",
       "</div>"
      ],
      "text/plain": [
       "          0         1         2         3    4         5         6         7  \\\n",
       "0  0.156041  0.034724  0.071444  0.078117  0.0  0.043656  0.147673  0.290654   \n",
       "1  0.099105  0.033467  0.048210  0.096153  0.0  0.050459  0.181863  0.332776   \n",
       "2  0.160259  0.033538  0.105772  0.086060  0.0  0.046421  0.181095  0.224147   \n",
       "3  0.139705  0.035719  0.060722  0.098022  0.0  0.051891  0.187796  0.330197   \n",
       "4  0.144930  0.030739  0.065995  0.082237  0.0  0.041594  0.145923  0.312308   \n",
       "\n",
       "          8         9  ...       459       460       461       462       463  \\\n",
       "0  0.227140  0.271585  ...  0.063550  0.104668  0.057380  0.062866  0.189442   \n",
       "1  0.276899  0.323902  ...  0.061139  0.101462  0.051161  0.050882  0.230257   \n",
       "2  0.273403  0.312137  ...  0.071666  0.147298  0.067166  0.087085  0.274896   \n",
       "3  0.296981  0.350095  ...  0.063510  0.106100  0.055346  0.057549  0.232088   \n",
       "4  0.210267  0.247076  ...  0.035856  0.051338  0.042271  0.047047  0.154600   \n",
       "\n",
       "        464       465       466       467  label  \n",
       "0  0.170856  0.159821  0.323322  0.348375      0  \n",
       "1  0.214284  0.201468  0.353529  0.377521      0  \n",
       "2  0.251641  0.229446  0.382837  0.408696      0  \n",
       "3  0.215398  0.203230  0.354787  0.383226      0  \n",
       "4  0.146428  0.139789  0.194182  0.204608      0  \n",
       "\n",
       "[5 rows x 469 columns]"
      ]
     },
     "execution_count": 2,
     "metadata": {},
     "output_type": "execute_result"
    }
   ],
   "source": [
    "data = pd.read_csv('../data.csv')\n",
    "data.drop('Index', axis=1, inplace=True)\n",
    "data.head()"
   ]
  },
  {
   "cell_type": "markdown",
   "metadata": {},
   "source": [
    "### Split Variables"
   ]
  },
  {
   "cell_type": "code",
   "execution_count": 3,
   "metadata": {},
   "outputs": [],
   "source": [
    "x = data.iloc[:, :-1]\n",
    "y = data.iloc[:, -1]\n",
    "\n",
    "x_train, x_test, y_train, y_test = train_test_split(x, y, test_size = 0.2, random_state = 0)"
   ]
  },
  {
   "cell_type": "markdown",
   "metadata": {},
   "source": [
    "### Training"
   ]
  },
  {
   "cell_type": "code",
   "execution_count": 4,
   "metadata": {},
   "outputs": [
    {
     "data": {
      "text/plain": [
       "KNeighborsClassifier(n_neighbors=1)"
      ]
     },
     "execution_count": 4,
     "metadata": {},
     "output_type": "execute_result"
    }
   ],
   "source": [
    "knn = KNeighborsClassifier(n_neighbors=1)\n",
    "knn.fit(x_train, y_train)"
   ]
  },
  {
   "cell_type": "code",
   "execution_count": 5,
   "metadata": {},
   "outputs": [],
   "source": [
    "pred = knn.predict(x_test)"
   ]
  },
  {
   "cell_type": "code",
   "execution_count": 6,
   "metadata": {},
   "outputs": [
    {
     "data": {
      "text/plain": [
       "0.4246153846153846"
      ]
     },
     "execution_count": 6,
     "metadata": {},
     "output_type": "execute_result"
    }
   ],
   "source": [
    "accuracy_score(y_test, pred)"
   ]
  }
 ],
 "metadata": {
  "interpreter": {
   "hash": "edd308e7c007ad85b362a562bfbc8a6438bc8604a7d190cd1423250b5323680b"
  },
  "kernelspec": {
   "display_name": "Python 3.7.11 64-bit ('faces': conda)",
   "language": "python",
   "name": "python3"
  },
  "language_info": {
   "codemirror_mode": {
    "name": "ipython",
    "version": 3
   },
   "file_extension": ".py",
   "mimetype": "text/x-python",
   "name": "python",
   "nbconvert_exporter": "python",
   "pygments_lexer": "ipython3",
   "version": "3.7.11"
  },
  "orig_nbformat": 4
 },
 "nbformat": 4,
 "nbformat_minor": 2
}
