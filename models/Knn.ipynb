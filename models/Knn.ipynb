{
 "cells": [
  {
   "cell_type": "markdown",
   "metadata": {},
   "source": [
    "### Import Dependencies"
   ]
  },
  {
   "cell_type": "code",
   "execution_count": 7,
   "metadata": {},
   "outputs": [],
   "source": [
    "import numpy as np \n",
    "import pandas as pd\n",
    "\n",
    "from sklearn.metrics import accuracy_score\n",
    "from sklearn.neighbors import KNeighborsClassifier\n",
    "from sklearn.model_selection import train_test_split"
   ]
  },
  {
   "cell_type": "markdown",
   "metadata": {},
   "source": [
    "### Read Dataset"
   ]
  },
  {
   "cell_type": "code",
   "execution_count": 8,
   "metadata": {},
   "outputs": [
    {
     "data": {
      "text/html": [
       "<div>\n",
       "<style scoped>\n",
       "    .dataframe tbody tr th:only-of-type {\n",
       "        vertical-align: middle;\n",
       "    }\n",
       "\n",
       "    .dataframe tbody tr th {\n",
       "        vertical-align: top;\n",
       "    }\n",
       "\n",
       "    .dataframe thead th {\n",
       "        text-align: right;\n",
       "    }\n",
       "</style>\n",
       "<table border=\"1\" class=\"dataframe\">\n",
       "  <thead>\n",
       "    <tr style=\"text-align: right;\">\n",
       "      <th></th>\n",
       "      <th>0</th>\n",
       "      <th>7</th>\n",
       "      <th>13</th>\n",
       "      <th>14</th>\n",
       "      <th>17</th>\n",
       "      <th>33</th>\n",
       "      <th>37</th>\n",
       "      <th>39</th>\n",
       "      <th>40</th>\n",
       "      <th>46</th>\n",
       "      <th>...</th>\n",
       "      <th>387</th>\n",
       "      <th>388</th>\n",
       "      <th>390</th>\n",
       "      <th>398</th>\n",
       "      <th>402</th>\n",
       "      <th>405</th>\n",
       "      <th>409</th>\n",
       "      <th>415</th>\n",
       "      <th>466</th>\n",
       "      <th>labels</th>\n",
       "    </tr>\n",
       "  </thead>\n",
       "  <tbody>\n",
       "    <tr>\n",
       "      <th>0</th>\n",
       "      <td>0.156041</td>\n",
       "      <td>0.290654</td>\n",
       "      <td>0.199809</td>\n",
       "      <td>0.290295</td>\n",
       "      <td>0.356657</td>\n",
       "      <td>0.307132</td>\n",
       "      <td>0.157192</td>\n",
       "      <td>0.187702</td>\n",
       "      <td>0.217832</td>\n",
       "      <td>0.374565</td>\n",
       "      <td>...</td>\n",
       "      <td>0.309477</td>\n",
       "      <td>0.318458</td>\n",
       "      <td>0.295038</td>\n",
       "      <td>0.212476</td>\n",
       "      <td>0.284568</td>\n",
       "      <td>0.338188</td>\n",
       "      <td>0.244253</td>\n",
       "      <td>0.234073</td>\n",
       "      <td>0.323322</td>\n",
       "      <td>0</td>\n",
       "    </tr>\n",
       "    <tr>\n",
       "      <th>1</th>\n",
       "      <td>0.099105</td>\n",
       "      <td>0.332776</td>\n",
       "      <td>0.119696</td>\n",
       "      <td>0.208098</td>\n",
       "      <td>0.258650</td>\n",
       "      <td>0.352134</td>\n",
       "      <td>0.101318</td>\n",
       "      <td>0.130601</td>\n",
       "      <td>0.152025</td>\n",
       "      <td>0.427157</td>\n",
       "      <td>...</td>\n",
       "      <td>0.343032</td>\n",
       "      <td>0.350165</td>\n",
       "      <td>0.319125</td>\n",
       "      <td>0.251888</td>\n",
       "      <td>0.207328</td>\n",
       "      <td>0.249380</td>\n",
       "      <td>0.196100</td>\n",
       "      <td>0.174136</td>\n",
       "      <td>0.353529</td>\n",
       "      <td>0</td>\n",
       "    </tr>\n",
       "    <tr>\n",
       "      <th>2</th>\n",
       "      <td>0.160259</td>\n",
       "      <td>0.224147</td>\n",
       "      <td>0.209884</td>\n",
       "      <td>0.213498</td>\n",
       "      <td>0.264495</td>\n",
       "      <td>0.233589</td>\n",
       "      <td>0.151807</td>\n",
       "      <td>0.161886</td>\n",
       "      <td>0.180539</td>\n",
       "      <td>0.275579</td>\n",
       "      <td>...</td>\n",
       "      <td>0.364269</td>\n",
       "      <td>0.375077</td>\n",
       "      <td>0.351450</td>\n",
       "      <td>0.293468</td>\n",
       "      <td>0.241386</td>\n",
       "      <td>0.285400</td>\n",
       "      <td>0.268769</td>\n",
       "      <td>0.265217</td>\n",
       "      <td>0.382837</td>\n",
       "      <td>0</td>\n",
       "    </tr>\n",
       "    <tr>\n",
       "      <th>3</th>\n",
       "      <td>0.139705</td>\n",
       "      <td>0.330197</td>\n",
       "      <td>0.172731</td>\n",
       "      <td>0.188332</td>\n",
       "      <td>0.243490</td>\n",
       "      <td>0.348977</td>\n",
       "      <td>0.137025</td>\n",
       "      <td>0.159584</td>\n",
       "      <td>0.179181</td>\n",
       "      <td>0.438886</td>\n",
       "      <td>...</td>\n",
       "      <td>0.341322</td>\n",
       "      <td>0.349891</td>\n",
       "      <td>0.321454</td>\n",
       "      <td>0.252637</td>\n",
       "      <td>0.197635</td>\n",
       "      <td>0.243881</td>\n",
       "      <td>0.215141</td>\n",
       "      <td>0.200392</td>\n",
       "      <td>0.354787</td>\n",
       "      <td>0</td>\n",
       "    </tr>\n",
       "    <tr>\n",
       "      <th>4</th>\n",
       "      <td>0.144930</td>\n",
       "      <td>0.312308</td>\n",
       "      <td>0.172522</td>\n",
       "      <td>0.174161</td>\n",
       "      <td>0.215116</td>\n",
       "      <td>0.328316</td>\n",
       "      <td>0.152421</td>\n",
       "      <td>0.181887</td>\n",
       "      <td>0.210446</td>\n",
       "      <td>0.382999</td>\n",
       "      <td>...</td>\n",
       "      <td>0.197266</td>\n",
       "      <td>0.195961</td>\n",
       "      <td>0.176641</td>\n",
       "      <td>0.165296</td>\n",
       "      <td>0.164141</td>\n",
       "      <td>0.196522</td>\n",
       "      <td>0.158438</td>\n",
       "      <td>0.156289</td>\n",
       "      <td>0.194182</td>\n",
       "      <td>0</td>\n",
       "    </tr>\n",
       "  </tbody>\n",
       "</table>\n",
       "<p>5 rows × 93 columns</p>\n",
       "</div>"
      ],
      "text/plain": [
       "          0         7        13        14        17        33        37  \\\n",
       "0  0.156041  0.290654  0.199809  0.290295  0.356657  0.307132  0.157192   \n",
       "1  0.099105  0.332776  0.119696  0.208098  0.258650  0.352134  0.101318   \n",
       "2  0.160259  0.224147  0.209884  0.213498  0.264495  0.233589  0.151807   \n",
       "3  0.139705  0.330197  0.172731  0.188332  0.243490  0.348977  0.137025   \n",
       "4  0.144930  0.312308  0.172522  0.174161  0.215116  0.328316  0.152421   \n",
       "\n",
       "         39        40        46  ...       387       388       390       398  \\\n",
       "0  0.187702  0.217832  0.374565  ...  0.309477  0.318458  0.295038  0.212476   \n",
       "1  0.130601  0.152025  0.427157  ...  0.343032  0.350165  0.319125  0.251888   \n",
       "2  0.161886  0.180539  0.275579  ...  0.364269  0.375077  0.351450  0.293468   \n",
       "3  0.159584  0.179181  0.438886  ...  0.341322  0.349891  0.321454  0.252637   \n",
       "4  0.181887  0.210446  0.382999  ...  0.197266  0.195961  0.176641  0.165296   \n",
       "\n",
       "        402       405       409       415       466  labels  \n",
       "0  0.284568  0.338188  0.244253  0.234073  0.323322       0  \n",
       "1  0.207328  0.249380  0.196100  0.174136  0.353529       0  \n",
       "2  0.241386  0.285400  0.268769  0.265217  0.382837       0  \n",
       "3  0.197635  0.243881  0.215141  0.200392  0.354787       0  \n",
       "4  0.164141  0.196522  0.158438  0.156289  0.194182       0  \n",
       "\n",
       "[5 rows x 93 columns]"
      ]
     },
     "execution_count": 8,
     "metadata": {},
     "output_type": "execute_result"
    }
   ],
   "source": [
    "data = pd.read_csv('../reduced.csv')\n",
    "data.drop('Index', axis=1, inplace=True)\n",
    "data.head()"
   ]
  },
  {
   "cell_type": "markdown",
   "metadata": {},
   "source": [
    "### Split Variables"
   ]
  },
  {
   "cell_type": "code",
   "execution_count": 9,
   "metadata": {},
   "outputs": [],
   "source": [
    "x = data.iloc[:, :-1]\n",
    "y = data.iloc[:, -1]\n",
    "\n",
    "x_train, x_test, y_train, y_test = train_test_split(x, y, test_size = 0.2, random_state = 0)"
   ]
  },
  {
   "cell_type": "markdown",
   "metadata": {},
   "source": [
    "### Training"
   ]
  },
  {
   "cell_type": "code",
   "execution_count": 10,
   "metadata": {},
   "outputs": [
    {
     "data": {
      "text/plain": [
       "KNeighborsClassifier(metric='euclidean', n_neighbors=19, weights='distance')"
      ]
     },
     "execution_count": 10,
     "metadata": {},
     "output_type": "execute_result"
    }
   ],
   "source": [
    "knn = KNeighborsClassifier(metric='euclidean', n_neighbors=19, weights='distance')\n",
    "knn.fit(x_train, y_train)"
   ]
  },
  {
   "cell_type": "code",
   "execution_count": 11,
   "metadata": {},
   "outputs": [],
   "source": [
    "pred = knn.predict(x_test)"
   ]
  },
  {
   "cell_type": "code",
   "execution_count": 12,
   "metadata": {},
   "outputs": [
    {
     "data": {
      "text/plain": [
       "0.45553846153846156"
      ]
     },
     "execution_count": 12,
     "metadata": {},
     "output_type": "execute_result"
    }
   ],
   "source": [
    "accuracy_score(y_test, pred)"
   ]
  },
  {
   "cell_type": "markdown",
   "metadata": {},
   "source": [
    "### Get confusion matrix"
   ]
  },
  {
   "cell_type": "code",
   "execution_count": 16,
   "metadata": {},
   "outputs": [
    {
     "data": {
      "text/plain": [
       "array([[ 178,   70,  200,  223,  117,   53],\n",
       "       [  40,  202,  177,  229,  171,   87],\n",
       "       [  65,   73, 1163,  226,  117,   97],\n",
       "       [  62,   84,  169,  636,  194,   54],\n",
       "       [  66,   99,  189,  331,  353,   37],\n",
       "       [  18,   57,   98,  100,   36,  429]], dtype=int64)"
      ]
     },
     "execution_count": 16,
     "metadata": {},
     "output_type": "execute_result"
    }
   ],
   "source": [
    "from sklearn.metrics import confusion_matrix\n",
    "import matplotlib.pyplot as plt\n",
    "\n",
    "confusion_matrix(y_test, pred)"
   ]
  },
  {
   "cell_type": "code",
   "execution_count": 17,
   "metadata": {},
   "outputs": [
    {
     "data": {
      "text/plain": [
       "<matplotlib.colorbar.Colorbar at 0x2186d7ccd30>"
      ]
     },
     "execution_count": 17,
     "metadata": {},
     "output_type": "execute_result"
    },
    {
     "data": {
      "image/png": "[encoded data removed]",
      "text/plain": [
       "<Figure size 432x288 with 2 Axes>"
      ]
     },
     "metadata": {
      "needs_background": "light"
     },
     "output_type": "display_data"
    }
   ],
   "source": [
    "plt.imshow(confusion_matrix(y_test, pred))\n",
    "plt.colorbar()"
   ]
  },
  {
   "cell_type": "markdown",
   "metadata": {},
   "source": [
    "### Get the recall "
   ]
  },
  {
   "cell_type": "code",
   "execution_count": 13,
   "metadata": {},
   "outputs": [
    {
     "data": {
      "text/plain": [
       "array([0.21165279, 0.22295806, 0.66800689, 0.53044204, 0.32837209,\n",
       "       0.58130081])"
      ]
     },
     "execution_count": 13,
     "metadata": {},
     "output_type": "execute_result"
    }
   ],
   "source": [
    "from sklearn.metrics import recall_score\n",
    "recall_score(y_test, pred, average=None)"
   ]
  },
  {
   "cell_type": "markdown",
   "metadata": {},
   "source": [
    "### Get precision"
   ]
  },
  {
   "cell_type": "code",
   "execution_count": 14,
   "metadata": {},
   "outputs": [
    {
     "data": {
      "text/plain": [
       "array([0.41491841, 0.34529915, 0.58266533, 0.36446991, 0.35728745,\n",
       "       0.5667107 ])"
      ]
     },
     "execution_count": 14,
     "metadata": {},
     "output_type": "execute_result"
    }
   ],
   "source": [
    "from sklearn.metrics import precision_score\n",
    "precision_score(y_test, pred, average=None)"
   ]
  },
  {
   "cell_type": "markdown",
   "metadata": {},
   "source": [
    "### F1 score"
   ]
  },
  {
   "cell_type": "code",
   "execution_count": 15,
   "metadata": {},
   "outputs": [
    {
     "data": {
      "text/plain": [
       "array([0.28031496, 0.27095909, 0.6224244 , 0.43206522, 0.34222007,\n",
       "       0.57391304])"
      ]
     },
     "execution_count": 15,
     "metadata": {},
     "output_type": "execute_result"
    }
   ],
   "source": [
    "from sklearn.metrics import f1_score\n",
    "f1_score(y_test, pred, average=None)"
   ]
  },
  {
   "cell_type": "code",
   "execution_count": null,
   "metadata": {},
   "outputs": [],
   "source": []
  }
 ],
 "metadata": {
  "interpreter": {
   "hash": "edd308e7c007ad85b362a562bfbc8a6438bc8604a7d190cd1423250b5323680b"
  },
  "kernelspec": {
   "display_name": "Python 3.7.11 64-bit ('faces': conda)",
   "language": "python",
   "name": "python3"
  },
  "language_info": {
   "codemirror_mode": {
    "name": "ipython",
    "version": 3
   },
   "file_extension": ".py",
   "mimetype": "text/x-python",
   "name": "python",
   "nbconvert_exporter": "python",
   "pygments_lexer": "ipython3",
   "version": "3.9.7"
  },
  "orig_nbformat": 4
 },
 "nbformat": 4,
 "nbformat_minor": 2
}
